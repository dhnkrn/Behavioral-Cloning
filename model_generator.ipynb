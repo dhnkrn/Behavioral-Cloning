{
 "cells": [
  {
   "cell_type": "code",
   "execution_count": 7,
   "metadata": {
    "collapsed": false,
    "deletable": true,
    "editable": true
   },
   "outputs": [],
   "source": [
    "import numpy as np\n",
    "import tensorflow as tf\n",
    "import csv\n",
    "import matplotlib.pyplot as plt\n",
    "import cv2\n",
    "import matplotlib.image as mpimg\n",
    "from sklearn.model_selection import train_test_split\n",
    "from sklearn.utils import shuffle\n",
    "\n",
    "%matplotlib inline\n",
    "images = []\n",
    "steering_angles = []"
   ]
  },
  {
   "cell_type": "code",
   "execution_count": 8,
   "metadata": {
    "collapsed": false,
    "deletable": true,
    "editable": true
   },
   "outputs": [],
   "source": [
    "images_orig = []\n",
    "steering_angles_orig = []\n",
    "\n",
    "for d in [\"driving_data_1\", \"driving_data_2\", \"driving_data_3\",\"driving_data_4\",\"driving_data_5\"] :\n",
    "    csvfile = open(\"./\"+d+\"/driving_log.csv\")\n",
    "    reader = csv.reader(csvfile)\n",
    "    for line in reader:\n",
    "        angle = float(line[3])\n",
    "        \n",
    "        #filter out 2/3 of very small steering angles\n",
    "        if angle > -0.001 and angle < 0.001:\n",
    "            if np.random.randint(0,3) is not 0:\n",
    "                continue\n",
    "                \n",
    "        im = mpimg.imread(line[0].strip())\n",
    "        images_orig.append(im)\n",
    "        steering_angles_orig.append(angle)\n",
    "                   \n",
    "        #don't use left and right camera images for small steering angle images\n",
    "        if angle > -0.001 and angle < 0.001:\n",
    "            continue \n",
    "        \n",
    "        im = mpimg.imread(line[1].strip())\n",
    "        images_orig.append(im)\n",
    "        steering_angles_orig.append(angle - 0.25)\n",
    "            \n",
    "        im = mpimg.imread(line[2].strip())\n",
    "        images_orig.append(im)\n",
    "        steering_angles_orig.append(angle + 0.25)\n",
    "\n",
    "\n",
    "train_images, validation_images, train_angles, validation_angles = train_test_split(images_orig,\n",
    "                                                                                    steering_angles_orig,\n",
    "                                                                                    test_size=0.2, random_state=42)\n"
   ]
  },
  {
   "cell_type": "code",
   "execution_count": 2,
   "metadata": {
    "collapsed": false,
    "deletable": true,
    "editable": true
   },
   "outputs": [],
   "source": [
    "def data_generator(images, angles, batch_size=32):\n",
    "    size = len(images)\n",
    "    while(1):\n",
    "        shuffle(images, angles, random_state=42)\n",
    "        for batch_start in range(0, size, batch_size):\n",
    "                batch_images = []\n",
    "                batch_angles = []\n",
    "                \n",
    "                batch_end = batch_start + batch_size\n",
    "                if (batch_end) > size: #batch_end may be greater than the data set size\n",
    "                    batch_end = size\n",
    "    \n",
    "                for i in range(batch_start, batch_end):\n",
    "                    im = images[i]\n",
    "                    an = angles[i]\n",
    "                    \n",
    "                    #flip images randomly 2/3 of the time\n",
    "                    if np.random.randint(0,3) is not 0:\n",
    "                        im = np.flip(im, 1)\n",
    "                        an *= -1.0\n",
    "        \n",
    "                    batch_images.append(im)\n",
    "                    batch_angles.append(an)\n",
    "                \n",
    "                yield np.array(batch_images), np.array(batch_angles)"
   ]
  },
  {
   "cell_type": "code",
   "execution_count": 3,
   "metadata": {
    "collapsed": false,
    "deletable": true,
    "editable": true,
    "scrolled": true
   },
   "outputs": [
    {
     "ename": "NameError",
     "evalue": "name 'train_images' is not defined",
     "output_type": "error",
     "traceback": [
      "\u001b[0;31m---------------------------------------------------------------------------\u001b[0m",
      "\u001b[0;31mNameError\u001b[0m                                 Traceback (most recent call last)",
      "\u001b[0;32m<ipython-input-3-ebf2463894a3>\u001b[0m in \u001b[0;36m<module>\u001b[0;34m()\u001b[0m\n\u001b[1;32m      4\u001b[0m \u001b[0;34m\u001b[0m\u001b[0m\n\u001b[1;32m      5\u001b[0m \u001b[0mbatch_size\u001b[0m \u001b[0;34m=\u001b[0m \u001b[0;36m32\u001b[0m\u001b[0;34m\u001b[0m\u001b[0m\n\u001b[0;32m----> 6\u001b[0;31m \u001b[0mtrain_generator\u001b[0m \u001b[0;34m=\u001b[0m \u001b[0mdata_generator\u001b[0m\u001b[0;34m(\u001b[0m\u001b[0mtrain_images\u001b[0m\u001b[0;34m,\u001b[0m \u001b[0mtrain_angles\u001b[0m\u001b[0;34m,\u001b[0m \u001b[0mbatch_size\u001b[0m\u001b[0;34m)\u001b[0m\u001b[0;34m\u001b[0m\u001b[0m\n\u001b[0m\u001b[1;32m      7\u001b[0m \u001b[0mvalidation_generator\u001b[0m \u001b[0;34m=\u001b[0m \u001b[0mdata_generator\u001b[0m\u001b[0;34m(\u001b[0m\u001b[0mvalidation_images\u001b[0m\u001b[0;34m,\u001b[0m \u001b[0mvalidation_angles\u001b[0m\u001b[0;34m,\u001b[0m \u001b[0mbatch_size\u001b[0m\u001b[0;34m)\u001b[0m\u001b[0;34m\u001b[0m\u001b[0m\n\u001b[1;32m      8\u001b[0m \u001b[0;34m\u001b[0m\u001b[0m\n",
      "\u001b[0;31mNameError\u001b[0m: name 'train_images' is not defined"
     ]
    }
   ],
   "source": [
    "from keras.models import Sequential\n",
    "from keras.layers import Flatten, Dense, Lambda\n",
    "from keras.layers import Conv2D, MaxPooling2D, Cropping2D\n",
    "\n",
    "batch_size = 32\n",
    "train_generator = data_generator(train_images, train_angles, batch_size)\n",
    "validation_generator = data_generator(validation_images, validation_angles, batch_size)\n",
    "\n",
    "model = Sequential()\n",
    "model.add(Cropping2D(cropping=((70,30), (0,0)), input_shape=(160,320,3)))\n",
    "model.add(Lambda(lambda x: (x / 255.0) - 0.5, input_shape=(60,320,3)))\n",
    "model.add(Conv2D(6,(5,5),activation=\"relu\"))\n",
    "model.add(MaxPooling2D())\n",
    "model.add(Conv2D(6,(5,5),activation=\"relu\"))\n",
    "model.add(MaxPooling2D())\n",
    "model.add(Flatten())\n",
    "model.add(Dense(120))\n",
    "model.add(Dense(84))\n",
    "model.add(Dense(1))\n",
    "\n",
    "model.compile(loss='mse', optimizer='adam')\n",
    "model.fit_generator(train_generator, steps_per_epoch = len(train_images)/batch_size,\n",
    "                    validation_data = validation_generator, validation_steps=len(validation_images)/batch_size,\n",
    "                    epochs=4)\n",
    "\n",
    "model.save('model_generator.h5')"
   ]
  },
  {
   "cell_type": "code",
   "execution_count": null,
   "metadata": {
    "collapsed": true,
    "deletable": true,
    "editable": true
   },
   "outputs": [],
   "source": []
  }
 ],
 "metadata": {
  "kernelspec": {
   "display_name": "Python 3",
   "language": "python",
   "name": "python3"
  },
  "language_info": {
   "codemirror_mode": {
    "name": "ipython",
    "version": 3
   },
   "file_extension": ".py",
   "mimetype": "text/x-python",
   "name": "python",
   "nbconvert_exporter": "python",
   "pygments_lexer": "ipython3",
   "version": "3.5.2"
  },
  "widgets": {
   "state": {},
   "version": "1.1.2"
  }
 },
 "nbformat": 4,
 "nbformat_minor": 2
}
